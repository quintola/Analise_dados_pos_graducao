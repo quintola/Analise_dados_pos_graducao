{
  "nbformat": 4,
  "nbformat_minor": 0,
  "metadata": {
    "colab": {
      "provenance": [],
      "authorship_tag": "ABX9TyObWo4niGLMORq09959Zp3J",
      "include_colab_link": true
    },
    "kernelspec": {
      "name": "python3",
      "display_name": "Python 3"
    }
  },
  "cells": [
    {
      "cell_type": "markdown",
      "metadata": {
        "id": "view-in-github",
        "colab_type": "text"
      },
      "source": [
        "<a href=\"https://colab.research.google.com/github/quintola/Analise_dados_pos_graducao/blob/main/At3_Regress%C3%A3o_Linear.ipynb\" target=\"_parent\"><img src=\"https://colab.research.google.com/assets/colab-badge.svg\" alt=\"Open In Colab\"/></a>"
      ]
    },
    {
      "cell_type": "markdown",
      "metadata": {
        "id": "PrYCaPvClufG"
      },
      "source": [
        "#ATIVIDADE PRATICA 3\n",
        "\n",
        "###REGRESSÃO LINEAR\n",
        "\n",
        "PROFESSOR: HUGO DE PAULA\n",
        "\n",
        "ALUNOS: DIEGO SOUZA E MARCOS JUNQUEIRA\n",
        "\n",
        "___\n",
        "RESUMO DOS DADOS:\n",
        "\n",
        "1. **Isolamento:** Nível de isolamento térmico da casa em uma taxa de 1 a 10, sendo que 10 indica a máxima espessura do isolamento.\n",
        "2. **Temperatura:** Temperatura ambiente externa média em cada casa no último ano. As medidas estão em graus Fahrenheit.\n",
        "3. **Num_ocupantes:** Número total de pessoas vivendo na casa.\n",
        "4. **Idade_media:** Idade média dos ocupantes da casa.\n",
        "5. **Tamanho_casa:** Tamanho da casa em uma taxa variando de 1 a 8. Quanto maior o valor, maior a casa.\n",
        "6. **Aquecimento_oleo:** Número total de unidades de aquecedores à óleo compradas pelo proprietário da casa no último ano. Esse é o valor a ser estimado.\n",
        "\n",
        "___"
      ]
    },
    {
      "cell_type": "markdown",
      "metadata": {
        "id": "YTITpvyXn-Pd"
      },
      "source": [
        "\n",
        "###### CARREGAMENTO PACOTES NECESSÁRIOS PARA ATIVIDADE"
      ]
    },
    {
      "cell_type": "code",
      "metadata": {
        "id": "3UXhEi7KmkD6"
      },
      "source": [
        "from sklearn.model_selection import train_test_split\n",
        "from sklearn.preprocessing import MinMaxScaler, PolynomialFeatures\n",
        "from sklearn.linear_model import LinearRegression, Ridge, Lasso\n",
        "from sklearn.linear_model import ElasticNet\n",
        "from sklearn.preprocessing import LabelEncoder\n",
        "from sklearn.feature_extraction import DictVectorizer\n",
        "from sklearn.metrics import confusion_matrix, classification_report\n",
        "from sklearn.neural_network import MLPClassifier\n",
        "\n",
        "import numpy as np\n",
        "import matplotlib.pyplot as plt\n",
        "import pandas as pd\n",
        "\n",
        "np.set_printoptions(precision=2)"
      ],
      "execution_count": null,
      "outputs": []
    },
    {
      "cell_type": "markdown",
      "metadata": {
        "id": "jz1wJXwIoiox"
      },
      "source": [
        "###### CARREGAMENTO BASE QUE SERÁ TRABALHADA"
      ]
    },
    {
      "cell_type": "code",
      "metadata": {
        "colab": {
          "resources": {
            "http://localhost:8080/nbextensions/google.colab/files.js": {
              "data": "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",
              "ok": true,
              "headers": [
                [
                  "content-type",
                  "application/javascript"
                ]
              ],
              "status": 200,
              "status_text": "OK"
            }
          },
          "base_uri": "https://localhost:8080/",
          "height": 75
        },
        "id": "utFUyg2Llsv4",
        "outputId": "247bde9a-d10d-4d24-e8b8-97c42122f987"
      },
      "source": [
        "from google.colab import files\n",
        "uploaded = files.upload()\n"
      ],
      "execution_count": null,
      "outputs": [
        {
          "output_type": "display_data",
          "data": {
            "text/html": [
              "\n",
              "     <input type=\"file\" id=\"files-8e6ef8b1-046d-496c-82d8-3d7c47c779b6\" name=\"files[]\" multiple disabled\n",
              "        style=\"border:none\" />\n",
              "     <output id=\"result-8e6ef8b1-046d-496c-82d8-3d7c47c779b6\">\n",
              "      Upload widget is only available when the cell has been executed in the\n",
              "      current browser session. Please rerun this cell to enable.\n",
              "      </output>\n",
              "      <script src=\"/nbextensions/google.colab/files.js\"></script> "
            ],
            "text/plain": [
              "<IPython.core.display.HTML object>"
            ]
          },
          "metadata": {
            "tags": []
          }
        },
        {
          "output_type": "stream",
          "text": [
            "Saving bases_regressao.xlsx to bases_regressao.xlsx\n"
          ],
          "name": "stdout"
        }
      ]
    },
    {
      "cell_type": "markdown",
      "metadata": {
        "id": "5C1I597vpo3C"
      },
      "source": [
        "###### EXPLORAÇÃO DA BASE CARREGADA"
      ]
    },
    {
      "cell_type": "code",
      "metadata": {
        "colab": {
          "base_uri": "https://localhost:8080/"
        },
        "id": "v2s2y7CNpvaU",
        "outputId": "29b40983-cd86-44cc-b8ca-7699f3acd4a4"
      },
      "source": [
        "Base = pd.read_excel('bases_regressao.xlsx', sheet_name=0)\n",
        "Previsao = pd.read_excel('bases_regressao.xlsx', sheet_name=1)\n",
        "print(\"\\nDimensões:\\n{0}\\n\".format(Base.shape))\n",
        "print(\"\\nCampos:\\n{0}\\n\".format(list(Base.keys())))\n",
        "print(\"\\nTipos dos dados:\\n\")\n",
        "format(Base.info())\n",
        "print(Base.describe().to_string(max_cols=Base.shape[1]), sep='\\n')\n",
        "print(\"\\n\")\n",
        "print(\"\\nDimensões:\\n{0}\\n\".format(Previsao.shape))\n",
        "print(\"\\nCampos:\\n{0}\\n\".format(list(Previsao.keys())))\n",
        "print(\"\\nTipos dos dados:\\n\")\n",
        "format(Previsao.info())\n",
        "print(Previsao.describe(), sep='\\n')\n",
        "\n",
        "Base['Idade_media'] = np.log10(Base['Idade_media'])\n",
        "Previsao['Idade_media'] = np.log10(Previsao['Idade_media'])\n",
        "\n",
        "\n"
      ],
      "execution_count": null,
      "outputs": [
        {
          "output_type": "stream",
          "text": [
            "\n",
            "Dimensões:\n",
            "(1218, 6)\n",
            "\n",
            "\n",
            "Campos:\n",
            "['Isolamento', 'Temperatura', 'Num_ocupantes', 'Idade_media', 'Tamanho_casa', 'Aquecimento_oleo']\n",
            "\n",
            "\n",
            "Tipos dos dados:\n",
            "\n",
            "<class 'pandas.core.frame.DataFrame'>\n",
            "RangeIndex: 1218 entries, 0 to 1217\n",
            "Data columns (total 6 columns):\n",
            " #   Column            Non-Null Count  Dtype  \n",
            "---  ------            --------------  -----  \n",
            " 0   Isolamento        1218 non-null   int64  \n",
            " 1   Temperatura       1218 non-null   int64  \n",
            " 2   Num_ocupantes     1218 non-null   int64  \n",
            " 3   Idade_media       1218 non-null   float64\n",
            " 4   Tamanho_casa      1218 non-null   int64  \n",
            " 5   Aquecimento_oleo  1218 non-null   int64  \n",
            "dtypes: float64(1), int64(5)\n",
            "memory usage: 57.2 KB\n",
            "        Isolamento  Temperatura  Num_ocupantes  Idade_media  Tamanho_casa  Aquecimento_oleo\n",
            "count  1218.000000  1218.000000    1218.000000  1218.000000   1218.000000       1218.000000\n",
            "mean      6.214286    65.078818       3.113300    42.706404      4.649425        197.394089\n",
            "std       2.768094    16.932425       1.690605    15.051137      2.321226         56.248267\n",
            "min       2.000000    38.000000       1.000000    15.100000      1.000000        114.000000\n",
            "25%       4.000000    49.000000       2.000000    29.700000      3.000000        148.250000\n",
            "50%       6.000000    60.000000       3.000000    42.900000      5.000000        185.000000\n",
            "75%       9.000000    81.000000       4.000000    55.600000      7.000000        253.000000\n",
            "max      10.000000    90.000000      10.000000    72.200000      8.000000        301.000000\n",
            "\n",
            "\n",
            "\n",
            "Dimensões:\n",
            "(42650, 5)\n",
            "\n",
            "\n",
            "Campos:\n",
            "['Isolamento', 'Temperatura', 'Num_ocupantes', 'Idade_media', 'Tamanho_casa']\n",
            "\n",
            "\n",
            "Tipos dos dados:\n",
            "\n",
            "<class 'pandas.core.frame.DataFrame'>\n",
            "RangeIndex: 42650 entries, 0 to 42649\n",
            "Data columns (total 5 columns):\n",
            " #   Column         Non-Null Count  Dtype  \n",
            "---  ------         --------------  -----  \n",
            " 0   Isolamento     42650 non-null  int64  \n",
            " 1   Temperatura    42650 non-null  int64  \n",
            " 2   Num_ocupantes  42650 non-null  int64  \n",
            " 3   Idade_media    42650 non-null  float64\n",
            " 4   Tamanho_casa   42650 non-null  int64  \n",
            "dtypes: float64(1), int64(4)\n",
            "memory usage: 1.6 MB\n",
            "         Isolamento   Temperatura  Num_ocupantes   Idade_media  Tamanho_casa\n",
            "count  42650.000000  42650.000000   42650.000000  42650.000000  42650.000000\n",
            "mean       5.989004     63.962087       5.489285     44.040131      4.495193\n",
            "std        2.575511     15.313351       2.874612     16.736901      2.290911\n",
            "min        2.000000     38.000000       1.000000     15.000000      1.000000\n",
            "25%        4.000000     51.000000       3.000000     29.500000      3.000000\n",
            "50%        6.000000     64.000000       5.000000     44.100000      4.000000\n",
            "75%        8.000000     77.000000       8.000000     58.600000      6.000000\n",
            "max       10.000000     90.000000      10.000000     73.000000      8.000000\n"
          ],
          "name": "stdout"
        }
      ]
    },
    {
      "cell_type": "markdown",
      "metadata": {
        "id": "tNCkl6B6zopL"
      },
      "source": [
        "###### VETORIZAÇÃO DA BASE"
      ]
    },
    {
      "cell_type": "code",
      "metadata": {
        "colab": {
          "base_uri": "https://localhost:8080/"
        },
        "id": "pAjm5mAFyXIU",
        "outputId": "e813520e-98a2-42e7-fca7-36cc55527663"
      },
      "source": [
        "X = MinMaxScaler().fit_transform(Base)\n",
        "X = Base.iloc[:,0:(Base.shape[1] - 1)]\n",
        "le = LabelEncoder()\n",
        "y = le.fit_transform(Base.iloc[:,(Base.shape[1] - 1)])\n",
        "class_names = le.classes_\n",
        "X_train, X_test, y_train, y_test = train_test_split(X, y,test_size=0.1, random_state=0)\n",
        "lr = LinearRegression().fit(X_train, y_train)\n",
        "\n",
        "print(\"Regressão Linear (original)\")\n",
        "print(\"Coeficiente R^2 na base de treinamento: {:.2f}\".format(lr.score(X_train, y_train)))\n",
        "print(\"Coeficiente R^2 na base de teste: {:.2f}\".format(lr.score(X_test, y_test)))\n",
        "print(\"Número de atributos usados: {}\".format(np.sum(lr.coef_ != 0)))\n",
        "\n",
        "print(\"Descrição do modelo: \")\n",
        "s = [\"{0:0.2f}\".format(v) for v in lr.coef_]\n",
        "print(\"w: {}  b: {:.2f}\".format(s, lr.intercept_))\n",
        "\n"
      ],
      "execution_count": null,
      "outputs": [
        {
          "output_type": "stream",
          "text": [
            "Regressão Linear (original)\n",
            "Coeficiente R^2 na base de treinamento: 0.79\n",
            "Coeficiente R^2 na base de teste: 0.84\n",
            "Número de atributos usados: 5\n",
            "Descrição do modelo: \n",
            "w: ['3.41', '-0.92', '-0.58', '142.10', '3.18']  b: -121.93\n"
          ],
          "name": "stdout"
        }
      ]
    },
    {
      "cell_type": "markdown",
      "metadata": {
        "id": "WWsVA07CVnQ7"
      },
      "source": [
        "###### REGRESSÃO LINEAR\n",
        "\n",
        "###### Atributos Redundantes"
      ]
    },
    {
      "cell_type": "code",
      "metadata": {
        "colab": {
          "base_uri": "https://localhost:8080/"
        },
        "id": "jdHPQWpxkEik",
        "outputId": "9f179bfc-2aa2-4cda-bb8d-211ce956d2c6"
      },
      "source": [
        "# Aumento das dimensões dos dados.\n",
        "X = PolynomialFeatures(degree=2, include_bias=False).fit_transform(X)\n",
        "\n",
        "print(\"Polynomial Features (atributos redundantes):\")\n",
        "print(X.shape)"
      ],
      "execution_count": null,
      "outputs": [
        {
          "output_type": "stream",
          "text": [
            "Polynomial Features (atributos redundantes):\n",
            "(1218, 20)\n"
          ],
          "name": "stdout"
        }
      ]
    },
    {
      "cell_type": "code",
      "metadata": {
        "colab": {
          "base_uri": "https://localhost:8080/"
        },
        "id": "aMXFgkb4V-kV",
        "outputId": "15607a8c-41e3-4733-9dce-0c390aea2366"
      },
      "source": [
        "X_train, X_test, y_train, y_test = train_test_split(X, y, test_size=0.1, random_state=0)\n",
        "lr = LinearRegression().fit(X_train, y_train)\n",
        "\n",
        "print(\"Regressão Linear (Redundante)\")\n",
        "print(\"Coeficiente R^2 na base de treinamento: {:.2f}\".format(lr.score(X_train, y_train)))\n",
        "print(\"Coeficiente R^2 na base de teste: {:.2f}\".format(lr.score(X_test, y_test)))\n",
        "print(\"Número de atributos usados: {}\".format(np.sum(lr.coef_ != 0)))"
      ],
      "execution_count": null,
      "outputs": [
        {
          "output_type": "stream",
          "text": [
            "Regressão Linear (Redundante)\n",
            "Coeficiente R^2 na base de treinamento: 0.84\n",
            "Coeficiente R^2 na base de teste: 0.92\n",
            "Número de atributos usados: 20\n"
          ],
          "name": "stdout"
        }
      ]
    },
    {
      "cell_type": "markdown",
      "metadata": {
        "id": "EMxoY-psXqxq"
      },
      "source": [
        "###### REGRESSÃO LINEAR COM REGULARIZAÇÃO - L2 -> RIDGE\n"
      ]
    },
    {
      "cell_type": "code",
      "metadata": {
        "colab": {
          "base_uri": "https://localhost:8080/"
        },
        "id": "QvgFzeNQX3B6",
        "outputId": "7bf51636-00a1-48f3-c0c4-a2c7493287ed"
      },
      "source": [
        "ridge = Ridge().fit(X_train, y_train)\n",
        "print(\"Ridge alpha=1\")\n",
        "print(\"Coeficiente R^2 na base de treinamento: {:.2f}\".format(ridge.score(X_train, y_train)))\n",
        "print(\"Coeficiente R^2 na base de teste: {:.2f}\".format(ridge.score(X_test, y_test)))\n",
        "print(\"Número de atributos usados: {}\".format(np.sum(ridge.coef_ > 0.001)))\n",
        "s = [\"{0:0.2f}\".format(v) for v in ridge.coef_]\n",
        "print(\"w: {}  b: {:.2f}\".format(s, ridge.intercept_))\n",
        "\n",
        "ridge10 = Ridge(alpha=10).fit(X_train, y_train)\n",
        "print(\"Ridge alpha=10\")\n",
        "print(\"Coeficiente R^2 na base de treinamento: {:.2f}\".format(ridge10.score(X_train, y_train)))\n",
        "print(\"Coeficiente R^2 na base de teste: {:.2f}\".format(ridge10.score(X_test, y_test)))\n",
        "print(\"Número de atributos usados: {}\".format(np.sum(ridge10.coef_ > 0.001)))\n",
        "s = [\"{0:0.2f}\".format(v) for v in ridge.coef_]\n",
        "print(\"w: {}  b: {:.2f}\".format(s, ridge.intercept_))\n",
        "\n",
        "\n",
        "ridge01 = Ridge(alpha=0.1).fit(X_train, y_train)\n",
        "print(\"Ridge alpha=0.1\")\n",
        "print(\"Coeficiente R^2 na base de treinamento: {:.2f}\".format(ridge01.score(X_train, y_train)))\n",
        "print(\"Coeficiente R^2 na base de teste: {:.2f}\".format(ridge01.score(X_test, y_test)))\n",
        "print(\"Número de atributos usados: {}\".format(np.sum(ridge01.coef_ > 0.001)))\n",
        "s = [\"{0:0.2f}\".format(v) for v in ridge.coef_]\n",
        "print(\"w: {}  b: {:.2f}\".format(s, ridge.intercept_))\n"
      ],
      "execution_count": null,
      "outputs": [
        {
          "output_type": "stream",
          "text": [
            "Ridge alpha=1\n",
            "Coeficiente R^2 na base de treinamento: 0.82\n",
            "Coeficiente R^2 na base de teste: 0.86\n",
            "Número de atributos usados: 10\n",
            "w: ['21.40', '3.74', '-2.97', '-19.08', '13.76', '-0.08', '0.00', '-0.18', '-12.01', '0.58', '-0.01', '0.00', '-1.81', '-0.07', '0.19', '1.53', '-0.16', '125.53', '-6.98', '0.20']  b: -243.79\n",
            "Ridge alpha=10\n",
            "Coeficiente R^2 na base de treinamento: 0.80\n",
            "Coeficiente R^2 na base de teste: 0.85\n",
            "Número de atributos usados: 12\n",
            "w: ['21.40', '3.74', '-2.97', '-19.08', '13.76', '-0.08', '0.00', '-0.18', '-12.01', '0.58', '-0.01', '0.00', '-1.81', '-0.07', '0.19', '1.53', '-0.16', '125.53', '-6.98', '0.20']  b: -243.79\n",
            "Ridge alpha=0.1\n",
            "Coeficiente R^2 na base de treinamento: 0.83\n",
            "Coeficiente R^2 na base de teste: 0.88\n",
            "Número de atributos usados: 9\n",
            "w: ['21.40', '3.74', '-2.97', '-19.08', '13.76', '-0.08', '0.00', '-0.18', '-12.01', '0.58', '-0.01', '0.00', '-1.81', '-0.07', '0.19', '1.53', '-0.16', '125.53', '-6.98', '0.20']  b: -243.79\n"
          ],
          "name": "stdout"
        }
      ]
    },
    {
      "cell_type": "markdown",
      "metadata": {
        "id": "Y6LAjbGAYNtZ"
      },
      "source": [
        "###### COMPRAÇÃO REGRESSÃO LINEAR E RIDGE"
      ]
    },
    {
      "cell_type": "code",
      "metadata": {
        "colab": {
          "base_uri": "https://localhost:8080/",
          "height": 406
        },
        "id": "mbZz7l2sYfSZ",
        "outputId": "78f1ce4b-1e95-41ce-b6a9-39d328709e03"
      },
      "source": [
        "plt.figure(figsize=(9, 6))\n",
        "plt.plot(ridge.coef_, 's', label=\"Ridge alpha=1\")\n",
        "plt.plot(ridge10.coef_, '^', label=\"Ridge alpha=10\")\n",
        "plt.plot(ridge01.coef_, 'v', label=\"Ridge alpha=0.1\")\n",
        "plt.plot(lr.coef_, 'o', label=\"Regressão linear\")\n",
        "plt.xlabel(\"Coeficiente\")\n",
        "plt.ylabel(\"Magnitude\")\n",
        "plt.hlines(0, 0, len(lr.coef_))\n",
        "plt.ylim(-25, 25)\n",
        "plt.legend()"
      ],
      "execution_count": null,
      "outputs": [
        {
          "output_type": "execute_result",
          "data": {
            "text/plain": [
              "<matplotlib.legend.Legend at 0x7fc65f0ff510>"
            ]
          },
          "metadata": {
            "tags": []
          },
          "execution_count": 20
        },
        {
          "output_type": "display_data",
          "data": {
            "image/png": "[encoded data removed]",
            "text/plain": [
              "<Figure size 648x432 with 1 Axes>"
            ]
          },
          "metadata": {
            "tags": [],
            "needs_background": "light"
          }
        }
      ]
    },
    {
      "cell_type": "markdown",
      "metadata": {
        "id": "GLzdWonEYppy"
      },
      "source": [
        "###### REGRESSÃO LINEAR COM REGULARIZAÇÃO L1 -> LASSO"
      ]
    },
    {
      "cell_type": "code",
      "metadata": {
        "colab": {
          "base_uri": "https://localhost:8080/"
        },
        "id": "WGqpFGItY4FC",
        "outputId": "efa190e5-33e2-47f1-b971-547fdbe2dfde"
      },
      "source": [
        "lasso = Lasso().fit(X_train, y_train)\n",
        "print(\"Lasso alpha=1\")\n",
        "print(\"Acurácia na base de treinamento: {:.2f}\".format(lasso.score(X_train, y_train)))\n",
        "print(\"Acurácia na base de teste: {:.2f}\".format(lasso.score(X_test, y_test)))\n",
        "print(\"Número de atributos usados: {}\".format(np.sum(lasso.coef_ > 0.001)))\n",
        "\n",
        "\n",
        "lasso01 = Lasso(alpha=0.1, max_iter=100000).fit(X_train, y_train)\n",
        "print(\"Lasso alpha=.1\")\n",
        "print(\"Acurácia na base de treinamento: {:.2f}\".format(lasso01.score(X_train, y_train)))\n",
        "print(\"Acurácia na base de teste: {:.2f}\".format(lasso01.score(X_test, y_test)))\n",
        "print(\"Número de atributos usados: {}\".format(np.sum(lasso01.coef_ > 0.001)))\n",
        "\n",
        "\n",
        "lasso001 = Lasso(alpha=0.01, max_iter=100000).fit(X_train, y_train)\n",
        "print(\"Lasso alpha=.01\")\n",
        "print(\"Acurácia na base de treinamento: {:.2f}\".format(lasso001.score(X_train, y_train)))\n",
        "print(\"Acurácia na base de teste: {:.2f}\".format(lasso001.score(X_test, y_test)))\n",
        "print(\"Número de atributos usados: {}\".format(np.sum(lasso001.coef_ > 0.001)))\n",
        "\n",
        "lasso0001 = Lasso(alpha=0.001, max_iter=100000).fit(X_train, y_train)\n",
        "print(\"Lasso alpha=.001\")\n",
        "print(\"Acurácia na base de treinamento: {:.2f}\".format(lasso0001.score(X_train, y_train)))\n",
        "print(\"Acurácia na base de teste: {:.2f}\".format(lasso0001.score(X_test, y_test)))\n",
        "print(\"Número de atributos usados: {}\".format(np.sum(lasso0001.coef_ > 0.001)))"
      ],
      "execution_count": null,
      "outputs": [
        {
          "output_type": "stream",
          "text": [
            "/usr/local/lib/python3.7/dist-packages/sklearn/linear_model/_coordinate_descent.py:476: ConvergenceWarning: Objective did not converge. You might want to increase the number of iterations. Duality gap: 726.6488179285079, tolerance: 298.8572006386862\n",
            "  positive)\n"
          ],
          "name": "stderr"
        },
        {
          "output_type": "stream",
          "text": [
            "Lasso alpha=1\n",
            "Acurácia na base de treinamento: 0.79\n",
            "Acurácia na base de teste: 0.85\n",
            "Número de atributos usados: 7\n",
            "Lasso alpha=.1\n",
            "Acurácia na base de treinamento: 0.81\n",
            "Acurácia na base de teste: 0.86\n",
            "Número de atributos usados: 8\n",
            "Lasso alpha=.01\n",
            "Acurácia na base de treinamento: 0.84\n",
            "Acurácia na base de teste: 0.91\n",
            "Número de atributos usados: 11\n",
            "Lasso alpha=.001\n",
            "Acurácia na base de treinamento: 0.84\n",
            "Acurácia na base de teste: 0.92\n",
            "Número de atributos usados: 10\n"
          ],
          "name": "stdout"
        }
      ]
    },
    {
      "cell_type": "markdown",
      "metadata": {
        "id": "fgWQWyv9d-88"
      },
      "source": [
        "###### COMPRAÇÃO REGRESSÃO LINEAR E RIDGE"
      ]
    },
    {
      "cell_type": "code",
      "metadata": {
        "colab": {
          "base_uri": "https://localhost:8080/",
          "height": 455
        },
        "id": "Sl3jfH9Pd-hr",
        "outputId": "b182c0f7-e1bd-4699-aed7-c0f3a701733a"
      },
      "source": [
        "plt.figure(figsize=(9, 6))\n",
        "plt.plot(lasso.coef_, 's', label=\"Lasso alpha=1\")\n",
        "plt.plot(lasso001.coef_, '^', label=\"Lasso alpha=0.01\")\n",
        "plt.plot(lasso0001.coef_, 'v', label=\"Lasso alpha=0.001\")\n",
        "plt.plot(ridge01.coef_, 'o', label=\"Ridge alpha=0.1\")\n",
        "plt.legend(ncol=2, loc=(0, 1.05))\n",
        "plt.ylim(-25, 25)\n",
        "plt.xlabel(\"Coeficiente\")\n",
        "plt.ylabel(\"Magnitude\")"
      ],
      "execution_count": null,
      "outputs": [
        {
          "output_type": "execute_result",
          "data": {
            "text/plain": [
              "Text(0, 0.5, 'Magnitude')"
            ]
          },
          "metadata": {
            "tags": []
          },
          "execution_count": 10
        },
        {
          "output_type": "display_data",
          "data": {
            "image/png": "[encoded data removed]",
            "text/plain": [
              "<Figure size 648x432 with 1 Axes>"
            ]
          },
          "metadata": {
            "tags": [],
            "needs_background": "light"
          }
        }
      ]
    },
    {
      "cell_type": "markdown",
      "metadata": {
        "id": "JfgNZOFreX1s"
      },
      "source": [
        "###### UTLIZAÇÃO DO ESLATICNET -> L1 E L2"
      ]
    },
    {
      "cell_type": "code",
      "metadata": {
        "colab": {
          "base_uri": "https://localhost:8080/"
        },
        "id": "XtdHHTJyeYa0",
        "outputId": "6f2c7c28-5783-4d3c-f238-510ac485550e"
      },
      "source": [
        "enet = ElasticNet().fit(X_train, y_train)\n",
        "print(\"ElasticNet alpha=1\")\n",
        "print(\"Acurácia na base de treinamento: {:.2f}\".format(enet.score(X_train, y_train)))\n",
        "print(\"Acurácia na base de teste: {:.2f}\".format(enet.score(X_test, y_test)))\n",
        "print(\"Número de atributos usados: {}\".format(np.sum(enet.coef_ > 0.001)))\n",
        "\n",
        "enet001 = ElasticNet(alpha=0.01, max_iter=100000).fit(X_train, y_train)\n",
        "print(\"ElasticNet alpha=.01\")\n",
        "print(\"Acurácia na base de treinamento: {:.2f}\".format(enet001.score(X_train, y_train)))\n",
        "print(\"Acurácia na base de teste: {:.2f}\".format(enet001.score(X_test, y_test)))\n",
        "print(\"Número de atributos usados: {}\".format(np.sum(enet001.coef_ > 0.001)))\n",
        "\n",
        "enet0001 = ElasticNet(alpha=0.001, max_iter=100000).fit(X_train, y_train)\n",
        "print(\"ElasticNet alpha=.001\")\n",
        "print(\"Acurácia na base de treinamento: {:.2f}\".format(enet0001.score(X_train, y_train)))\n",
        "print(\"Acurácia na base de teste: {:.2f}\".format(enet0001.score(X_test, y_test)))\n",
        "print(\"Número de atributos usados: {}\".format(np.sum(enet0001.coef_ > 0.001)))"
      ],
      "execution_count": null,
      "outputs": [
        {
          "output_type": "stream",
          "text": [
            "ElasticNet alpha=1\n",
            "Acurácia na base de treinamento: 0.79\n",
            "Acurácia na base de teste: 0.85\n",
            "Número de atributos usados: 8\n",
            "ElasticNet alpha=.01\n",
            "Acurácia na base de treinamento: 0.81\n",
            "Acurácia na base de teste: 0.85\n",
            "Número de atributos usados: 11\n",
            "ElasticNet alpha=.001\n",
            "Acurácia na base de treinamento: 0.82\n",
            "Acurácia na base de teste: 0.87\n",
            "Número de atributos usados: 8\n"
          ],
          "name": "stdout"
        }
      ]
    },
    {
      "cell_type": "code",
      "metadata": {
        "colab": {
          "base_uri": "https://localhost:8080/",
          "height": 455
        },
        "id": "sSSvKitffBsU",
        "outputId": "b89503b0-8f8b-4e4f-dc87-9898f96e253c"
      },
      "source": [
        "plt.figure(figsize=(9, 6))\n",
        "plt.plot(lasso0001.coef_, 's', label=\"Lasso alpha=0.001\")\n",
        "plt.plot(enet001.coef_, '^', label=\"enet alpha=0.01\")\n",
        "plt.plot(enet0001.coef_, 'v', label=\"enet alpha=0.001\")\n",
        "plt.plot(enet.coef_, 'o', label=\"enet alpha=1\")\n",
        "plt.legend(ncol=2, loc=(0, 1.05))\n",
        "plt.ylim(-25, 25)\n",
        "plt.xlabel(\"Coeficiente\")\n",
        "plt.ylabel(\"Magnitude\")"
      ],
      "execution_count": null,
      "outputs": [
        {
          "output_type": "execute_result",
          "data": {
            "text/plain": [
              "Text(0, 0.5, 'Magnitude')"
            ]
          },
          "metadata": {
            "tags": []
          },
          "execution_count": 22
        },
        {
          "output_type": "display_data",
          "data": {
            "image/png": "[encoded data removed]",
            "text/plain": [
              "<Figure size 648x432 with 1 Axes>"
            ]
          },
          "metadata": {
            "tags": [],
            "needs_background": "light"
          }
        }
      ]
    },
    {
      "cell_type": "code",
      "metadata": {
        "colab": {
          "base_uri": "https://localhost:8080/",
          "height": 206
        },
        "id": "5G__FAdx6878",
        "outputId": "d8d23a54-dd5b-4e9e-fb8c-fa54397e6cc0"
      },
      "source": [
        "Base = Base.drop(columns=['Aquecimento_oleo'])\n",
        "Base.corr()\n"
      ],
      "execution_count": null,
      "outputs": [
        {
          "output_type": "execute_result",
          "data": {
            "text/html": [
              "<div>\n",
              "<style scoped>\n",
              "    .dataframe tbody tr th:only-of-type {\n",
              "        vertical-align: middle;\n",
              "    }\n",
              "\n",
              "    .dataframe tbody tr th {\n",
              "        vertical-align: top;\n",
              "    }\n",
              "\n",
              "    .dataframe thead th {\n",
              "        text-align: right;\n",
              "    }\n",
              "</style>\n",
              "<table border=\"1\" class=\"dataframe\">\n",
              "  <thead>\n",
              "    <tr style=\"text-align: right;\">\n",
              "      <th></th>\n",
              "      <th>Isolamento</th>\n",
              "      <th>Temperatura</th>\n",
              "      <th>Num_ocupantes</th>\n",
              "      <th>Idade_media</th>\n",
              "      <th>Tamanho_casa</th>\n",
              "    </tr>\n",
              "  </thead>\n",
              "  <tbody>\n",
              "    <tr>\n",
              "      <th>Isolamento</th>\n",
              "      <td>1.000000</td>\n",
              "      <td>-0.793696</td>\n",
              "      <td>-0.012567</td>\n",
              "      <td>0.620748</td>\n",
              "      <td>0.200712</td>\n",
              "    </tr>\n",
              "    <tr>\n",
              "      <th>Temperatura</th>\n",
              "      <td>-0.793696</td>\n",
              "      <td>1.000000</td>\n",
              "      <td>0.012519</td>\n",
              "      <td>-0.638015</td>\n",
              "      <td>-0.213939</td>\n",
              "    </tr>\n",
              "    <tr>\n",
              "      <th>Num_ocupantes</th>\n",
              "      <td>-0.012567</td>\n",
              "      <td>0.012519</td>\n",
              "      <td>1.000000</td>\n",
              "      <td>-0.045188</td>\n",
              "      <td>-0.022534</td>\n",
              "    </tr>\n",
              "    <tr>\n",
              "      <th>Idade_media</th>\n",
              "      <td>0.620748</td>\n",
              "      <td>-0.638015</td>\n",
              "      <td>-0.045188</td>\n",
              "      <td>1.000000</td>\n",
              "      <td>0.302910</td>\n",
              "    </tr>\n",
              "    <tr>\n",
              "      <th>Tamanho_casa</th>\n",
              "      <td>0.200712</td>\n",
              "      <td>-0.213939</td>\n",
              "      <td>-0.022534</td>\n",
              "      <td>0.302910</td>\n",
              "      <td>1.000000</td>\n",
              "    </tr>\n",
              "  </tbody>\n",
              "</table>\n",
              "</div>"
            ],
            "text/plain": [
              "               Isolamento  Temperatura  ...  Idade_media  Tamanho_casa\n",
              "Isolamento       1.000000    -0.793696  ...     0.620748      0.200712\n",
              "Temperatura     -0.793696     1.000000  ...    -0.638015     -0.213939\n",
              "Num_ocupantes   -0.012567     0.012519  ...    -0.045188     -0.022534\n",
              "Idade_media      0.620748    -0.638015  ...     1.000000      0.302910\n",
              "Tamanho_casa     0.200712    -0.213939  ...     0.302910      1.000000\n",
              "\n",
              "[5 rows x 5 columns]"
            ]
          },
          "metadata": {
            "tags": []
          },
          "execution_count": 23
        }
      ]
    },
    {
      "cell_type": "markdown",
      "metadata": {
        "id": "Utpd-jiX75Kp"
      },
      "source": [
        "### RESOLUÇÃO EXERCÍCIO"
      ]
    },
    {
      "cell_type": "markdown",
      "metadata": {
        "id": "1MiAXri97_gg"
      },
      "source": [
        "APÓS REALIZAÇÃO DO PROCEDIMENTOS, ENTENDEMOS QUE OS ATRIBUTOS MAIS IMPORTANTES SÃO OS DE ISOLAMENTO E IDADE MEDIA."
      ]
    },
    {
      "cell_type": "markdown",
      "metadata": {
        "id": "9uBWD51t8f8I"
      },
      "source": [
        "IDADE MÉDIA E ISOLAMENTO SÃO DIRETAMENTE RELACIONADOS, ENQUANTO A TEMPERATURA É INVERSAMENTE."
      ]
    },
    {
      "cell_type": "markdown",
      "metadata": {
        "id": "REmZK9WR8sbh"
      },
      "source": [
        "O NÚMERO DE OCUPANTES NÃO FOI SIGNIFICATIVO."
      ]
    },
    {
      "cell_type": "markdown",
      "metadata": {
        "id": "TC-x2_7g815s"
      },
      "source": [
        "#### PREVISÃO DO MODELO"
      ]
    },
    {
      "cell_type": "code",
      "metadata": {
        "id": "97FX2da179AZ"
      },
      "source": [
        "Modelo = lr\n",
        "Modelo2 = ridge01\n",
        "Modelo3 = lasso0001\n",
        "Modelo4 = enet0001"
      ],
      "execution_count": null,
      "outputs": []
    },
    {
      "cell_type": "code",
      "metadata": {
        "colab": {
          "base_uri": "https://localhost:8080/",
          "height": 424
        },
        "id": "ttPBvRvt9HAD",
        "outputId": "c03e6985-b9ec-45a6-b1d3-626f95afbd13"
      },
      "source": [
        "Modelo.fit(X_train,y_train)\n",
        "y_pred = Modelo.predict(X_test)\n",
        "df = pd.DataFrame({'Actual': y_test, 'Predicted': y_pred})\n",
        "df"
      ],
      "execution_count": null,
      "outputs": [
        {
          "output_type": "execute_result",
          "data": {
            "text/html": [
              "<div>\n",
              "<style scoped>\n",
              "    .dataframe tbody tr th:only-of-type {\n",
              "        vertical-align: middle;\n",
              "    }\n",
              "\n",
              "    .dataframe tbody tr th {\n",
              "        vertical-align: top;\n",
              "    }\n",
              "\n",
              "    .dataframe thead th {\n",
              "        text-align: right;\n",
              "    }\n",
              "</style>\n",
              "<table border=\"1\" class=\"dataframe\">\n",
              "  <thead>\n",
              "    <tr style=\"text-align: right;\">\n",
              "      <th></th>\n",
              "      <th>Actual</th>\n",
              "      <th>Predicted</th>\n",
              "    </tr>\n",
              "  </thead>\n",
              "  <tbody>\n",
              "    <tr>\n",
              "      <th>0</th>\n",
              "      <td>21</td>\n",
              "      <td>40.083696</td>\n",
              "    </tr>\n",
              "    <tr>\n",
              "      <th>1</th>\n",
              "      <td>17</td>\n",
              "      <td>22.695292</td>\n",
              "    </tr>\n",
              "    <tr>\n",
              "      <th>2</th>\n",
              "      <td>4</td>\n",
              "      <td>19.441926</td>\n",
              "    </tr>\n",
              "    <tr>\n",
              "      <th>3</th>\n",
              "      <td>141</td>\n",
              "      <td>144.645860</td>\n",
              "    </tr>\n",
              "    <tr>\n",
              "      <th>4</th>\n",
              "      <td>13</td>\n",
              "      <td>8.611001</td>\n",
              "    </tr>\n",
              "    <tr>\n",
              "      <th>...</th>\n",
              "      <td>...</td>\n",
              "      <td>...</td>\n",
              "    </tr>\n",
              "    <tr>\n",
              "      <th>117</th>\n",
              "      <td>160</td>\n",
              "      <td>136.587232</td>\n",
              "    </tr>\n",
              "    <tr>\n",
              "      <th>118</th>\n",
              "      <td>131</td>\n",
              "      <td>126.031025</td>\n",
              "    </tr>\n",
              "    <tr>\n",
              "      <th>119</th>\n",
              "      <td>128</td>\n",
              "      <td>112.273287</td>\n",
              "    </tr>\n",
              "    <tr>\n",
              "      <th>120</th>\n",
              "      <td>32</td>\n",
              "      <td>27.780604</td>\n",
              "    </tr>\n",
              "    <tr>\n",
              "      <th>121</th>\n",
              "      <td>147</td>\n",
              "      <td>130.652613</td>\n",
              "    </tr>\n",
              "  </tbody>\n",
              "</table>\n",
              "<p>122 rows × 2 columns</p>\n",
              "</div>"
            ],
            "text/plain": [
              "     Actual   Predicted\n",
              "0        21   40.083696\n",
              "1        17   22.695292\n",
              "2         4   19.441926\n",
              "3       141  144.645860\n",
              "4        13    8.611001\n",
              "..      ...         ...\n",
              "117     160  136.587232\n",
              "118     131  126.031025\n",
              "119     128  112.273287\n",
              "120      32   27.780604\n",
              "121     147  130.652613\n",
              "\n",
              "[122 rows x 2 columns]"
            ]
          },
          "metadata": {
            "tags": []
          },
          "execution_count": 35
        }
      ]
    },
    {
      "cell_type": "code",
      "metadata": {
        "colab": {
          "base_uri": "https://localhost:8080/",
          "height": 424
        },
        "id": "23OYVUjj9QJQ",
        "outputId": "c4a0f08d-d748-4c68-ad79-65476b5341a4"
      },
      "source": [
        "Modelo2.fit(X_train,y_train)\n",
        "y_pred = Modelo2.predict(X_test)\n",
        "df = pd.DataFrame({'Actual': y_test, 'Predicted': y_pred})\n",
        "df"
      ],
      "execution_count": null,
      "outputs": [
        {
          "output_type": "execute_result",
          "data": {
            "text/html": [
              "<div>\n",
              "<style scoped>\n",
              "    .dataframe tbody tr th:only-of-type {\n",
              "        vertical-align: middle;\n",
              "    }\n",
              "\n",
              "    .dataframe tbody tr th {\n",
              "        vertical-align: top;\n",
              "    }\n",
              "\n",
              "    .dataframe thead th {\n",
              "        text-align: right;\n",
              "    }\n",
              "</style>\n",
              "<table border=\"1\" class=\"dataframe\">\n",
              "  <thead>\n",
              "    <tr style=\"text-align: right;\">\n",
              "      <th></th>\n",
              "      <th>Actual</th>\n",
              "      <th>Predicted</th>\n",
              "    </tr>\n",
              "  </thead>\n",
              "  <tbody>\n",
              "    <tr>\n",
              "      <th>0</th>\n",
              "      <td>21</td>\n",
              "      <td>39.365397</td>\n",
              "    </tr>\n",
              "    <tr>\n",
              "      <th>1</th>\n",
              "      <td>17</td>\n",
              "      <td>25.704928</td>\n",
              "    </tr>\n",
              "    <tr>\n",
              "      <th>2</th>\n",
              "      <td>4</td>\n",
              "      <td>5.236712</td>\n",
              "    </tr>\n",
              "    <tr>\n",
              "      <th>3</th>\n",
              "      <td>141</td>\n",
              "      <td>148.671824</td>\n",
              "    </tr>\n",
              "    <tr>\n",
              "      <th>4</th>\n",
              "      <td>13</td>\n",
              "      <td>9.402813</td>\n",
              "    </tr>\n",
              "    <tr>\n",
              "      <th>...</th>\n",
              "      <td>...</td>\n",
              "      <td>...</td>\n",
              "    </tr>\n",
              "    <tr>\n",
              "      <th>117</th>\n",
              "      <td>160</td>\n",
              "      <td>131.038669</td>\n",
              "    </tr>\n",
              "    <tr>\n",
              "      <th>118</th>\n",
              "      <td>131</td>\n",
              "      <td>128.076210</td>\n",
              "    </tr>\n",
              "    <tr>\n",
              "      <th>119</th>\n",
              "      <td>128</td>\n",
              "      <td>109.316588</td>\n",
              "    </tr>\n",
              "    <tr>\n",
              "      <th>120</th>\n",
              "      <td>32</td>\n",
              "      <td>29.747539</td>\n",
              "    </tr>\n",
              "    <tr>\n",
              "      <th>121</th>\n",
              "      <td>147</td>\n",
              "      <td>125.773754</td>\n",
              "    </tr>\n",
              "  </tbody>\n",
              "</table>\n",
              "<p>122 rows × 2 columns</p>\n",
              "</div>"
            ],
            "text/plain": [
              "     Actual   Predicted\n",
              "0        21   39.365397\n",
              "1        17   25.704928\n",
              "2         4    5.236712\n",
              "3       141  148.671824\n",
              "4        13    9.402813\n",
              "..      ...         ...\n",
              "117     160  131.038669\n",
              "118     131  128.076210\n",
              "119     128  109.316588\n",
              "120      32   29.747539\n",
              "121     147  125.773754\n",
              "\n",
              "[122 rows x 2 columns]"
            ]
          },
          "metadata": {
            "tags": []
          },
          "execution_count": 36
        }
      ]
    },
    {
      "cell_type": "code",
      "metadata": {
        "colab": {
          "base_uri": "https://localhost:8080/",
          "height": 424
        },
        "id": "fEgZg1wd-0Q9",
        "outputId": "af659d2e-9103-4943-b411-cb43d4d1342a"
      },
      "source": [
        "Modelo3.fit(X_train,y_train)\n",
        "y_pred = Modelo3.predict(X_test)\n",
        "df = pd.DataFrame({'Actual': y_test, 'Predicted': y_pred})\n",
        "df"
      ],
      "execution_count": null,
      "outputs": [
        {
          "output_type": "execute_result",
          "data": {
            "text/html": [
              "<div>\n",
              "<style scoped>\n",
              "    .dataframe tbody tr th:only-of-type {\n",
              "        vertical-align: middle;\n",
              "    }\n",
              "\n",
              "    .dataframe tbody tr th {\n",
              "        vertical-align: top;\n",
              "    }\n",
              "\n",
              "    .dataframe thead th {\n",
              "        text-align: right;\n",
              "    }\n",
              "</style>\n",
              "<table border=\"1\" class=\"dataframe\">\n",
              "  <thead>\n",
              "    <tr style=\"text-align: right;\">\n",
              "      <th></th>\n",
              "      <th>Actual</th>\n",
              "      <th>Predicted</th>\n",
              "    </tr>\n",
              "  </thead>\n",
              "  <tbody>\n",
              "    <tr>\n",
              "      <th>0</th>\n",
              "      <td>21</td>\n",
              "      <td>40.058687</td>\n",
              "    </tr>\n",
              "    <tr>\n",
              "      <th>1</th>\n",
              "      <td>17</td>\n",
              "      <td>22.777852</td>\n",
              "    </tr>\n",
              "    <tr>\n",
              "      <th>2</th>\n",
              "      <td>4</td>\n",
              "      <td>18.929420</td>\n",
              "    </tr>\n",
              "    <tr>\n",
              "      <th>3</th>\n",
              "      <td>141</td>\n",
              "      <td>144.796603</td>\n",
              "    </tr>\n",
              "    <tr>\n",
              "      <th>4</th>\n",
              "      <td>13</td>\n",
              "      <td>8.672326</td>\n",
              "    </tr>\n",
              "    <tr>\n",
              "      <th>...</th>\n",
              "      <td>...</td>\n",
              "      <td>...</td>\n",
              "    </tr>\n",
              "    <tr>\n",
              "      <th>117</th>\n",
              "      <td>160</td>\n",
              "      <td>136.379160</td>\n",
              "    </tr>\n",
              "    <tr>\n",
              "      <th>118</th>\n",
              "      <td>131</td>\n",
              "      <td>126.099554</td>\n",
              "    </tr>\n",
              "    <tr>\n",
              "      <th>119</th>\n",
              "      <td>128</td>\n",
              "      <td>112.165817</td>\n",
              "    </tr>\n",
              "    <tr>\n",
              "      <th>120</th>\n",
              "      <td>32</td>\n",
              "      <td>27.846004</td>\n",
              "    </tr>\n",
              "    <tr>\n",
              "      <th>121</th>\n",
              "      <td>147</td>\n",
              "      <td>130.460967</td>\n",
              "    </tr>\n",
              "  </tbody>\n",
              "</table>\n",
              "<p>122 rows × 2 columns</p>\n",
              "</div>"
            ],
            "text/plain": [
              "     Actual   Predicted\n",
              "0        21   40.058687\n",
              "1        17   22.777852\n",
              "2         4   18.929420\n",
              "3       141  144.796603\n",
              "4        13    8.672326\n",
              "..      ...         ...\n",
              "117     160  136.379160\n",
              "118     131  126.099554\n",
              "119     128  112.165817\n",
              "120      32   27.846004\n",
              "121     147  130.460967\n",
              "\n",
              "[122 rows x 2 columns]"
            ]
          },
          "metadata": {
            "tags": []
          },
          "execution_count": 37
        }
      ]
    },
    {
      "cell_type": "code",
      "metadata": {
        "colab": {
          "base_uri": "https://localhost:8080/",
          "height": 424
        },
        "id": "OYTXHA6c-6-z",
        "outputId": "78f5f4ad-f5f8-4942-b10e-5432684eaf0d"
      },
      "source": [
        "Modelo4.fit(X_train,y_train)\n",
        "y_pred = Modelo4.predict(X_test)\n",
        "df = pd.DataFrame({'Actual': y_test, 'Predicted': y_pred})\n",
        "df"
      ],
      "execution_count": null,
      "outputs": [
        {
          "output_type": "execute_result",
          "data": {
            "text/html": [
              "<div>\n",
              "<style scoped>\n",
              "    .dataframe tbody tr th:only-of-type {\n",
              "        vertical-align: middle;\n",
              "    }\n",
              "\n",
              "    .dataframe tbody tr th {\n",
              "        vertical-align: top;\n",
              "    }\n",
              "\n",
              "    .dataframe thead th {\n",
              "        text-align: right;\n",
              "    }\n",
              "</style>\n",
              "<table border=\"1\" class=\"dataframe\">\n",
              "  <thead>\n",
              "    <tr style=\"text-align: right;\">\n",
              "      <th></th>\n",
              "      <th>Actual</th>\n",
              "      <th>Predicted</th>\n",
              "    </tr>\n",
              "  </thead>\n",
              "  <tbody>\n",
              "    <tr>\n",
              "      <th>0</th>\n",
              "      <td>21</td>\n",
              "      <td>37.722791</td>\n",
              "    </tr>\n",
              "    <tr>\n",
              "      <th>1</th>\n",
              "      <td>17</td>\n",
              "      <td>23.543442</td>\n",
              "    </tr>\n",
              "    <tr>\n",
              "      <th>2</th>\n",
              "      <td>4</td>\n",
              "      <td>4.773947</td>\n",
              "    </tr>\n",
              "    <tr>\n",
              "      <th>3</th>\n",
              "      <td>141</td>\n",
              "      <td>150.034520</td>\n",
              "    </tr>\n",
              "    <tr>\n",
              "      <th>4</th>\n",
              "      <td>13</td>\n",
              "      <td>10.488940</td>\n",
              "    </tr>\n",
              "    <tr>\n",
              "      <th>...</th>\n",
              "      <td>...</td>\n",
              "      <td>...</td>\n",
              "    </tr>\n",
              "    <tr>\n",
              "      <th>117</th>\n",
              "      <td>160</td>\n",
              "      <td>128.790481</td>\n",
              "    </tr>\n",
              "    <tr>\n",
              "      <th>118</th>\n",
              "      <td>131</td>\n",
              "      <td>128.686798</td>\n",
              "    </tr>\n",
              "    <tr>\n",
              "      <th>119</th>\n",
              "      <td>128</td>\n",
              "      <td>108.509978</td>\n",
              "    </tr>\n",
              "    <tr>\n",
              "      <th>120</th>\n",
              "      <td>32</td>\n",
              "      <td>29.850098</td>\n",
              "    </tr>\n",
              "    <tr>\n",
              "      <th>121</th>\n",
              "      <td>147</td>\n",
              "      <td>122.610542</td>\n",
              "    </tr>\n",
              "  </tbody>\n",
              "</table>\n",
              "<p>122 rows × 2 columns</p>\n",
              "</div>"
            ],
            "text/plain": [
              "     Actual   Predicted\n",
              "0        21   37.722791\n",
              "1        17   23.543442\n",
              "2         4    4.773947\n",
              "3       141  150.034520\n",
              "4        13   10.488940\n",
              "..      ...         ...\n",
              "117     160  128.790481\n",
              "118     131  128.686798\n",
              "119     128  108.509978\n",
              "120      32   29.850098\n",
              "121     147  122.610542\n",
              "\n",
              "[122 rows x 2 columns]"
            ]
          },
          "metadata": {
            "tags": []
          },
          "execution_count": 38
        }
      ]
    }
  ]
}